{
 "cells": [
  {
   "cell_type": "markdown",
   "id": "bd103e03",
   "metadata": {},
   "source": [
    "# Soubory se záznamem z holteru\n",
    "\n",
    "Užitečný se jeví zejména formát WFDB (.hea/.dat), který obsahuje záznam 3 svodů ECG."
   ]
  },
  {
   "cell_type": "code",
   "execution_count": 50,
   "id": "069c7a70",
   "metadata": {},
   "outputs": [],
   "source": [
    "from matplotlib import pyplot as plt\n",
    "import pprint\n",
    "import numpy as np"
   ]
  },
  {
   "cell_type": "markdown",
   "id": "e8e4f4d0",
   "metadata": {},
   "source": [
    "# Formát .mat"
   ]
  },
  {
   "cell_type": "markdown",
   "id": "8525cd11",
   "metadata": {},
   "source": [
    "Formát pro práci v Matlabu. V souboru s příponou `.mat` se nachází metadata o pořízeném záznamu - Datum, čas, název. Nejsou zde obsaženy žádné záznamy s průběhem ECG. Položka *PEVENT* obsahuje 7 čísel s neznámým významem. "
   ]
  },
  {
   "cell_type": "code",
   "execution_count": 1,
   "id": "ff56937e",
   "metadata": {},
   "outputs": [],
   "source": [
    "import scipy.io\n",
    "mat = scipy.io.loadmat('_.mat')"
   ]
  },
  {
   "cell_type": "code",
   "execution_count": 32,
   "id": "f797c91c",
   "metadata": {},
   "outputs": [
    {
     "name": "stdout",
     "output_type": "stream",
     "text": [
      "{'ExpLength': array([[ 1,  4, 43]], dtype=int16),\n",
      " 'PEVENT': array([[3832.88 , 3838.648, 3840.52 , 3843.304, 3863.812, 3869.252,\n",
      "        3878.936]]),\n",
      " 'PatID': array(['hokus'], dtype='<U5'),\n",
      " 'Starttime': array([[2022,    1,   31,   13,   45,    8]], dtype=int16),\n",
      " 'beatpos': array([[7.640000e-01, 1.828000e+00, 2.872000e+00, ..., 3.881175e+03,\n",
      "        3.882238e+03, 3.883293e+03]]),\n",
      " 'beats': array([[2., 2., 2., ..., 2., 2., 2.]])}\n"
     ]
    }
   ],
   "source": [
    "pprint.pprint(mat)"
   ]
  },
  {
   "cell_type": "code",
   "execution_count": 7,
   "id": "e59a2a7a",
   "metadata": {},
   "outputs": [
    {
     "data": {
      "text/plain": [
       "3681"
      ]
     },
     "execution_count": 7,
     "metadata": {},
     "output_type": "execute_result"
    }
   ],
   "source": [
    "beatpos = mat['beatpos']\n",
    "len(beatpos[0])"
   ]
  },
  {
   "cell_type": "code",
   "execution_count": 9,
   "id": "a00f1861",
   "metadata": {},
   "outputs": [
    {
     "data": {
      "text/plain": [
       "7"
      ]
     },
     "execution_count": 9,
     "metadata": {},
     "output_type": "execute_result"
    }
   ],
   "source": [
    "\n",
    "len(mat['PEVENT'][0])"
   ]
  },
  {
   "cell_type": "code",
   "execution_count": 10,
   "id": "8fb84b8d",
   "metadata": {},
   "outputs": [
    {
     "data": {
      "text/plain": [
       "3681"
      ]
     },
     "execution_count": 10,
     "metadata": {},
     "output_type": "execute_result"
    }
   ],
   "source": [
    "len(mat['beats'][0])"
   ]
  },
  {
   "cell_type": "code",
   "execution_count": 27,
   "id": "662ebf1f",
   "metadata": {},
   "outputs": [
    {
     "data": {
      "text/plain": [
       "[<matplotlib.lines.Line2D at 0x2e322d3ba90>]"
      ]
     },
     "execution_count": 27,
     "metadata": {},
     "output_type": "execute_result"
    },
    {
     "data": {
      "image/png": "[encoded data removed]",
      "text/plain": [
       "<Figure size 432x288 with 1 Axes>"
      ]
     },
     "metadata": {
      "needs_background": "light"
     },
     "output_type": "display_data"
    }
   ],
   "source": [
    "plt.plot(beatpos[0])"
   ]
  },
  {
   "cell_type": "code",
   "execution_count": 33,
   "id": "9edb5248",
   "metadata": {},
   "outputs": [
    {
     "data": {
      "text/plain": [
       "[<matplotlib.lines.Line2D at 0x2e32b8b8e48>]"
      ]
     },
     "execution_count": 33,
     "metadata": {},
     "output_type": "execute_result"
    },
    {
     "data": {
      "image/png": "[encoded data removed]",
      "text/plain": [
       "<Figure size 432x288 with 1 Axes>"
      ]
     },
     "metadata": {
      "needs_background": "light"
     },
     "output_type": "display_data"
    }
   ],
   "source": [
    "plt.plot(mat['PEVENT'][0])"
   ]
  },
  {
   "cell_type": "markdown",
   "id": "ca117654",
   "metadata": {},
   "source": [
    "# Soubory Physiobank WFDB (.hea/.dat)\n",
    "\n",
    "Formát obsahuje záznamy ECG. Testovací soubor obsahuje záznamy ze 3 svodů. Načítáme prvních 5 sekund, aby bylo na obrázku něco vidět. Předpokládám, že 'fs' znamená frekvenci měření.\n",
    "\n",
    "https://archive.physionet.org/physiotools/wfdb.shtml\n",
    "\n",
    "https://github.com/MIT-LCP/wfdb-python\n",
    "\n",
    "\n",
    "## Instalace balíky pro python\n",
    "\n",
    "```shell\n",
    "pip install wfdb\n",
    "```"
   ]
  },
  {
   "cell_type": "markdown",
   "id": "7966e442",
   "metadata": {},
   "source": [
    "## Vizualizace prvních 5 sekund"
   ]
  },
  {
   "cell_type": "code",
   "execution_count": 146,
   "id": "d6fa5a76",
   "metadata": {},
   "outputs": [
    {
     "data": {
      "text/plain": [
       "{'fs': 1000,\n",
       " 'sig_len': 3883936,\n",
       " 'n_sig': 3,\n",
       " 'base_date': datetime.date(2022, 1, 31),\n",
       " 'base_time': datetime.time(13, 45, 8),\n",
       " 'units': ['mV', 'mV', 'mV'],\n",
       " 'sig_name': ['EKG [1]', 'EKG [2]', 'EKG [3]'],\n",
       " 'comments': []}"
      ]
     },
     "execution_count": 146,
     "metadata": {},
     "output_type": "execute_result"
    }
   ],
   "source": [
    "import wfdb\n",
    "fn = \"_\"\n",
    "from wfdb import processing\n",
    "sig, fields = wfdb.rdsamp(fn, channels=None, sampto=None)\n",
    "# sig, fields = wfdb.rdsamp(fn, channels=None, sampto=5500)\n",
    "fields"
   ]
  },
  {
   "cell_type": "code",
   "execution_count": 127,
   "id": "fb2dbaf7",
   "metadata": {},
   "outputs": [
    {
     "data": {
      "text/plain": [
       "array([[-6.51562158, -6.51813843, -6.55211401],\n",
       "       [ 5.84533984,  5.86481226,  5.86082202],\n",
       "       [-6.48542871, -6.48789185, -6.52179419],\n",
       "       ...,\n",
       "       [-0.56460669, -0.42042749, -0.53362891],\n",
       "       [-0.56460669, -0.42042749, -0.53362891],\n",
       "       [-0.56460669, -0.42042749, -0.53362891]])"
      ]
     },
     "execution_count": 127,
     "metadata": {},
     "output_type": "execute_result"
    }
   ],
   "source": [
    "sig"
   ]
  },
  {
   "cell_type": "code",
   "execution_count": 128,
   "id": "ac0799dc",
   "metadata": {},
   "outputs": [],
   "source": [
    "# remove noisy signal at the beginning\n",
    "sig = sig[300:]\n",
    "# cut 5 seconds\n",
    "sig = sig[:5000]"
   ]
  },
  {
   "cell_type": "code",
   "execution_count": 129,
   "id": "0027e003",
   "metadata": {},
   "outputs": [
    {
     "data": {
      "image/png": "[encoded data removed]",
      "text/plain": [
       "<Figure size 432x288 with 1 Axes>"
      ]
     },
     "metadata": {
      "needs_background": "light"
     },
     "output_type": "display_data"
    }
   ],
   "source": [
    "time = np.array(range(len(sig)))*1/fields['fs']\n",
    "plt.plot(time, sig)\n",
    "plt.legend(fields['sig_name'])\n",
    "plt.ylabel(fields['units'][0])\n",
    "plt.xlabel('s')\n",
    "plt.savefig(\"ekg.png\")"
   ]
  },
  {
   "cell_type": "markdown",
   "id": "254f04b5",
   "metadata": {},
   "source": [
    "## Matlab export"
   ]
  },
  {
   "cell_type": "code",
   "execution_count": 144,
   "id": "222ea7dc",
   "metadata": {},
   "outputs": [],
   "source": [
    "sig, fields = wfdb.rdsamp(fn, channels=None, sampto=10000)\n",
    "fields['sig'] = sig\n",
    "tm = fields['base_time']\n",
    "dt = fields['base_date']\n",
    "fields['base_time'] = [tm.hour, tm.minute, tm.second]\n",
    "fields['base_date'] = [dt.year, dt.month, dt.day]\n",
    "scipy.io.savemat(fn + 'wfdb_export.mat',fields)"
   ]
  },
  {
   "cell_type": "code",
   "execution_count": 145,
   "id": "292a9a85",
   "metadata": {},
   "outputs": [
    {
     "data": {
      "text/plain": [
       "{'__header__': b'MATLAB 5.0 MAT-file Platform: nt, Created on: Thu Feb 10 16:23:20 2022',\n",
       " '__version__': '1.0',\n",
       " '__globals__': [],\n",
       " 'fs': array([[1000]]),\n",
       " 'sig_len': array([[10000]]),\n",
       " 'n_sig': array([[3]]),\n",
       " 'base_date': array([[2022,    1,   31]]),\n",
       " 'base_time': array([[13, 45,  8]]),\n",
       " 'units': array(['mV', 'mV', 'mV'], dtype='<U2'),\n",
       " 'sig_name': array(['EKG [1]', 'EKG [2]', 'EKG [3]'], dtype='<U7'),\n",
       " 'comments': array([], shape=(0, 0), dtype=float64),\n",
       " 'sig': array([[-6.51562158, -6.51813843, -6.55211401],\n",
       "        [ 5.84533984,  5.86481226,  5.86082202],\n",
       "        [-6.48542871, -6.48789185, -6.52179419],\n",
       "        ...,\n",
       "        [-0.14190649, -0.34481104, -0.4487334 ],\n",
       "        [-0.14190649, -0.34783569, -0.4487334 ],\n",
       "        [-0.14492578, -0.34783569, -0.4487334 ]])}"
      ]
     },
     "execution_count": 145,
     "metadata": {},
     "output_type": "execute_result"
    }
   ],
   "source": [
    "# Kontrola uložení znovu-načtením\n",
    "scipy.io.loadmat(fn + 'wfdb_export.mat')"
   ]
  },
  {
   "cell_type": "code",
   "execution_count": null,
   "id": "c45b6cec",
   "metadata": {},
   "outputs": [],
   "source": []
  }
 ],
 "metadata": {
  "kernelspec": {
   "display_name": "Python 3",
   "language": "python",
   "name": "python3"
  },
  "language_info": {
   "codemirror_mode": {
    "name": "ipython",
    "version": 3
   },
   "file_extension": ".py",
   "mimetype": "text/x-python",
   "name": "python",
   "nbconvert_exporter": "python",
   "pygments_lexer": "ipython3",
   "version": "3.6.13"
  }
 },
 "nbformat": 4,
 "nbformat_minor": 5
}
